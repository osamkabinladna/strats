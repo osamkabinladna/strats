{
 "cells": [
  {
   "cell_type": "code",
   "id": "initial_id",
   "metadata": {
    "collapsed": true,
    "ExecuteTime": {
     "end_time": "2024-08-01T09:15:33.310120Z",
     "start_time": "2024-08-01T09:15:33.246179Z"
    }
   },
   "source": [
    "import pandas as pd\n",
    "import numpy as np\n",
    "from sklearn.decomposition import PCA\n",
    "from sklearn.preprocessing import StandardScaler\n",
    "import matplotlib.pyplot as plt\n",
    "\n",
    "from hmmlearn import hmm\n",
    "from sklearn.metrics import aic\n",
    "\n",
    "import os"
   ],
   "outputs": [
    {
     "ename": "ImportError",
     "evalue": "cannot import name 'aic' from 'sklearn.metrics' (/opt/homebrew/Caskroom/miniconda/base/envs/tradingstrats/lib/python3.8/site-packages/sklearn/metrics/__init__.py)",
     "output_type": "error",
     "traceback": [
      "\u001B[0;31m---------------------------------------------------------------------------\u001B[0m",
      "\u001B[0;31mImportError\u001B[0m                               Traceback (most recent call last)",
      "Cell \u001B[0;32mIn[38], line 8\u001B[0m\n\u001B[1;32m      5\u001B[0m \u001B[38;5;28;01mimport\u001B[39;00m \u001B[38;5;21;01mmatplotlib\u001B[39;00m\u001B[38;5;21;01m.\u001B[39;00m\u001B[38;5;21;01mpyplot\u001B[39;00m \u001B[38;5;28;01mas\u001B[39;00m \u001B[38;5;21;01mplt\u001B[39;00m\n\u001B[1;32m      7\u001B[0m \u001B[38;5;28;01mfrom\u001B[39;00m \u001B[38;5;21;01mhmmlearn\u001B[39;00m \u001B[38;5;28;01mimport\u001B[39;00m hmm\n\u001B[0;32m----> 8\u001B[0m \u001B[38;5;28;01mfrom\u001B[39;00m \u001B[38;5;21;01msklearn\u001B[39;00m\u001B[38;5;21;01m.\u001B[39;00m\u001B[38;5;21;01mmetrics\u001B[39;00m \u001B[38;5;28;01mimport\u001B[39;00m aic\n\u001B[1;32m     10\u001B[0m \u001B[38;5;28;01mimport\u001B[39;00m \u001B[38;5;21;01mos\u001B[39;00m\n",
      "\u001B[0;31mImportError\u001B[0m: cannot import name 'aic' from 'sklearn.metrics' (/opt/homebrew/Caskroom/miniconda/base/envs/tradingstrats/lib/python3.8/site-packages/sklearn/metrics/__init__.py)"
     ]
    }
   ],
   "execution_count": 38
  },
  {
   "metadata": {},
   "cell_type": "markdown",
   "source": "## Read data from ticker",
   "id": "52baf6205992537e"
  },
  {
   "metadata": {
    "ExecuteTime": {
     "end_time": "2024-08-01T07:32:28.751874Z",
     "start_time": "2024-08-01T07:32:28.482863Z"
    }
   },
   "cell_type": "code",
   "source": [
    "df = pd.read_csv('../data/aggregate/idx30.csv', delimiter=\";\", index_col=0)\n",
    "filtered_colnames = [col[:4] for col in df.columns.tolist() if \"Unnamed\" not in col]\n",
    "\n",
    "df = pd.read_csv('../data/aggregate/idx30.csv', delimiter=\";\", header=1, index_col=0)\n",
    "df = df[pd.to_datetime(df.index, errors=\"coerce\").notna()]\n",
    "\n",
    "# Split the dataframe into adjusted close prices and volumes\n",
    "adj_close_cols = [col for col in df.columns if 'PX_LAST' in col]\n",
    "volume_cols = [col for col in df.columns if 'VOLUME' in col]\n",
    "\n",
    "# Create separate dataframes\n",
    "df_adj_close = df[adj_close_cols].apply(pd.to_numeric, errors='coerce')\n",
    "df_volume = df[volume_cols].apply(pd.to_numeric, errors='coerce')\n",
    "\n",
    "df_adj_close.index = pd.to_datetime(df_adj_close.index)\n",
    "df_adj_close.columns = filtered_colnames\n",
    "df_volume.index = pd.to_datetime(df_volume.index)\n",
    "df_volume.columns = filtered_colnames\n",
    "\n",
    "# Now resample the data to weekly frequency\n",
    "df_adj_close_weekly = df_adj_close.resample('W').last().sort_index(ascending=False)\n",
    "\n",
    "# Check earliest non NaN dates for each ticker\n",
    "# earliest_dates = df_adj_close_weekly.apply(lambda x: x.dropna().index.min())\n",
    "\n",
    "\n",
    "\n",
    "# SET CUTOFF DATE and cut to view the most recent data\n",
    "date_threshold = pd.to_datetime('2010-10-10')\n",
    "df_after = df_adj_close_weekly[df_adj_close_weekly.index >= date_threshold].dropna(axis=1) "
   ],
   "id": "fa95f24b75101458",
   "outputs": [],
   "execution_count": 2
  },
  {
   "metadata": {
    "ExecuteTime": {
     "end_time": "2024-08-01T07:32:30.527839Z",
     "start_time": "2024-08-01T07:32:30.504634Z"
    }
   },
   "cell_type": "code",
   "source": "df_after",
   "id": "b36a13f7e21c9354",
   "outputs": [
    {
     "data": {
      "text/plain": [
       "            ACES  ASII     ICBP  SMGR  ADRO   BBCA  INCO  MEDC  TLKM  AKRA  \\\n",
       "Type                                                                         \n",
       "2024-08-04   800  4630  10925.0  3910  3230  10325  3700  1310  2890  1515   \n",
       "2024-07-28   820  4610  10850.0  4010  3180  10325  3740  1325  3100  1555   \n",
       "2024-07-21   800  4530  10800.0  4060  3100  10125  3840  1285  3140  1515   \n",
       "2024-07-14   800  4540  10375.0  4090  2830  10075  3750  1315  3220  1500   \n",
       "2024-07-07   835  4580  10275.0  3950  2910   9950  4040  1390  3020  1565   \n",
       "...          ...   ...      ...   ...   ...    ...   ...   ...   ...   ...   \n",
       "2010-11-07   270  5670   2600.0  9274  2275   1420  4683   737  1570   310   \n",
       "2010-10-31   270  5700   2850.0  9773  2100   1400  4683   775  1820   302   \n",
       "2010-10-24   218  5615   2600.0  9773  2250   1370  4658   742  1800   310   \n",
       "2010-10-17   210  5625   2725.0  9972  2225   1330  4880   699  1810   272   \n",
       "2010-10-10   218  5695   2850.0  9873  2050   1370  4831   651  1820   294   \n",
       "\n",
       "            ...  AMRT  BBRI  INKP  UNVR  ANTM  BMRI   ITMG  BRPT  KLBF  PTBA  \n",
       "Type        ...                                                               \n",
       "2024-08-04  ...  2850  4670  8200  2430  1305  6425  26100  1095  1565  2660  \n",
       "2024-07-28  ...  2850  4760  8075  2490  1295  6550  26400  1065  1575  2660  \n",
       "2024-07-21  ...  2880  4900  8500  2800  1350  6525  26525  1055  1575  2630  \n",
       "2024-07-14  ...  2930  4900  8450  2920  1360  6425  25550  1130  1560  2530  \n",
       "2024-07-07  ...  2780  4800  8850  2910  1310  6425  26150  1220  1490  2540  \n",
       "...         ...   ...   ...   ...   ...   ...   ...    ...   ...   ...   ...  \n",
       "2010-11-07  ...   190  1180  1940  3250  2184  1770  50500   124   590  4070  \n",
       "2010-10-31  ...   186  1112  2075  3490  2142  1721  45200   126   535  3930  \n",
       "2010-10-24  ...   185  1059  2100  3470  2163  1684  49500   128   520  4020  \n",
       "2010-10-17  ...   198  1024  2050  3610  2100  1708  47500   129   530  4080  \n",
       "2010-10-10  ...   199  1024  2100  3410  2016  1647  43250   122   515  4140  \n",
       "\n",
       "[722 rows x 24 columns]"
      ],
      "text/html": [
       "<div>\n",
       "<style scoped>\n",
       "    .dataframe tbody tr th:only-of-type {\n",
       "        vertical-align: middle;\n",
       "    }\n",
       "\n",
       "    .dataframe tbody tr th {\n",
       "        vertical-align: top;\n",
       "    }\n",
       "\n",
       "    .dataframe thead th {\n",
       "        text-align: right;\n",
       "    }\n",
       "</style>\n",
       "<table border=\"1\" class=\"dataframe\">\n",
       "  <thead>\n",
       "    <tr style=\"text-align: right;\">\n",
       "      <th></th>\n",
       "      <th>ACES</th>\n",
       "      <th>ASII</th>\n",
       "      <th>ICBP</th>\n",
       "      <th>SMGR</th>\n",
       "      <th>ADRO</th>\n",
       "      <th>BBCA</th>\n",
       "      <th>INCO</th>\n",
       "      <th>MEDC</th>\n",
       "      <th>TLKM</th>\n",
       "      <th>AKRA</th>\n",
       "      <th>...</th>\n",
       "      <th>AMRT</th>\n",
       "      <th>BBRI</th>\n",
       "      <th>INKP</th>\n",
       "      <th>UNVR</th>\n",
       "      <th>ANTM</th>\n",
       "      <th>BMRI</th>\n",
       "      <th>ITMG</th>\n",
       "      <th>BRPT</th>\n",
       "      <th>KLBF</th>\n",
       "      <th>PTBA</th>\n",
       "    </tr>\n",
       "    <tr>\n",
       "      <th>Type</th>\n",
       "      <th></th>\n",
       "      <th></th>\n",
       "      <th></th>\n",
       "      <th></th>\n",
       "      <th></th>\n",
       "      <th></th>\n",
       "      <th></th>\n",
       "      <th></th>\n",
       "      <th></th>\n",
       "      <th></th>\n",
       "      <th></th>\n",
       "      <th></th>\n",
       "      <th></th>\n",
       "      <th></th>\n",
       "      <th></th>\n",
       "      <th></th>\n",
       "      <th></th>\n",
       "      <th></th>\n",
       "      <th></th>\n",
       "      <th></th>\n",
       "      <th></th>\n",
       "    </tr>\n",
       "  </thead>\n",
       "  <tbody>\n",
       "    <tr>\n",
       "      <th>2024-08-04</th>\n",
       "      <td>800</td>\n",
       "      <td>4630</td>\n",
       "      <td>10925.0</td>\n",
       "      <td>3910</td>\n",
       "      <td>3230</td>\n",
       "      <td>10325</td>\n",
       "      <td>3700</td>\n",
       "      <td>1310</td>\n",
       "      <td>2890</td>\n",
       "      <td>1515</td>\n",
       "      <td>...</td>\n",
       "      <td>2850</td>\n",
       "      <td>4670</td>\n",
       "      <td>8200</td>\n",
       "      <td>2430</td>\n",
       "      <td>1305</td>\n",
       "      <td>6425</td>\n",
       "      <td>26100</td>\n",
       "      <td>1095</td>\n",
       "      <td>1565</td>\n",
       "      <td>2660</td>\n",
       "    </tr>\n",
       "    <tr>\n",
       "      <th>2024-07-28</th>\n",
       "      <td>820</td>\n",
       "      <td>4610</td>\n",
       "      <td>10850.0</td>\n",
       "      <td>4010</td>\n",
       "      <td>3180</td>\n",
       "      <td>10325</td>\n",
       "      <td>3740</td>\n",
       "      <td>1325</td>\n",
       "      <td>3100</td>\n",
       "      <td>1555</td>\n",
       "      <td>...</td>\n",
       "      <td>2850</td>\n",
       "      <td>4760</td>\n",
       "      <td>8075</td>\n",
       "      <td>2490</td>\n",
       "      <td>1295</td>\n",
       "      <td>6550</td>\n",
       "      <td>26400</td>\n",
       "      <td>1065</td>\n",
       "      <td>1575</td>\n",
       "      <td>2660</td>\n",
       "    </tr>\n",
       "    <tr>\n",
       "      <th>2024-07-21</th>\n",
       "      <td>800</td>\n",
       "      <td>4530</td>\n",
       "      <td>10800.0</td>\n",
       "      <td>4060</td>\n",
       "      <td>3100</td>\n",
       "      <td>10125</td>\n",
       "      <td>3840</td>\n",
       "      <td>1285</td>\n",
       "      <td>3140</td>\n",
       "      <td>1515</td>\n",
       "      <td>...</td>\n",
       "      <td>2880</td>\n",
       "      <td>4900</td>\n",
       "      <td>8500</td>\n",
       "      <td>2800</td>\n",
       "      <td>1350</td>\n",
       "      <td>6525</td>\n",
       "      <td>26525</td>\n",
       "      <td>1055</td>\n",
       "      <td>1575</td>\n",
       "      <td>2630</td>\n",
       "    </tr>\n",
       "    <tr>\n",
       "      <th>2024-07-14</th>\n",
       "      <td>800</td>\n",
       "      <td>4540</td>\n",
       "      <td>10375.0</td>\n",
       "      <td>4090</td>\n",
       "      <td>2830</td>\n",
       "      <td>10075</td>\n",
       "      <td>3750</td>\n",
       "      <td>1315</td>\n",
       "      <td>3220</td>\n",
       "      <td>1500</td>\n",
       "      <td>...</td>\n",
       "      <td>2930</td>\n",
       "      <td>4900</td>\n",
       "      <td>8450</td>\n",
       "      <td>2920</td>\n",
       "      <td>1360</td>\n",
       "      <td>6425</td>\n",
       "      <td>25550</td>\n",
       "      <td>1130</td>\n",
       "      <td>1560</td>\n",
       "      <td>2530</td>\n",
       "    </tr>\n",
       "    <tr>\n",
       "      <th>2024-07-07</th>\n",
       "      <td>835</td>\n",
       "      <td>4580</td>\n",
       "      <td>10275.0</td>\n",
       "      <td>3950</td>\n",
       "      <td>2910</td>\n",
       "      <td>9950</td>\n",
       "      <td>4040</td>\n",
       "      <td>1390</td>\n",
       "      <td>3020</td>\n",
       "      <td>1565</td>\n",
       "      <td>...</td>\n",
       "      <td>2780</td>\n",
       "      <td>4800</td>\n",
       "      <td>8850</td>\n",
       "      <td>2910</td>\n",
       "      <td>1310</td>\n",
       "      <td>6425</td>\n",
       "      <td>26150</td>\n",
       "      <td>1220</td>\n",
       "      <td>1490</td>\n",
       "      <td>2540</td>\n",
       "    </tr>\n",
       "    <tr>\n",
       "      <th>...</th>\n",
       "      <td>...</td>\n",
       "      <td>...</td>\n",
       "      <td>...</td>\n",
       "      <td>...</td>\n",
       "      <td>...</td>\n",
       "      <td>...</td>\n",
       "      <td>...</td>\n",
       "      <td>...</td>\n",
       "      <td>...</td>\n",
       "      <td>...</td>\n",
       "      <td>...</td>\n",
       "      <td>...</td>\n",
       "      <td>...</td>\n",
       "      <td>...</td>\n",
       "      <td>...</td>\n",
       "      <td>...</td>\n",
       "      <td>...</td>\n",
       "      <td>...</td>\n",
       "      <td>...</td>\n",
       "      <td>...</td>\n",
       "      <td>...</td>\n",
       "    </tr>\n",
       "    <tr>\n",
       "      <th>2010-11-07</th>\n",
       "      <td>270</td>\n",
       "      <td>5670</td>\n",
       "      <td>2600.0</td>\n",
       "      <td>9274</td>\n",
       "      <td>2275</td>\n",
       "      <td>1420</td>\n",
       "      <td>4683</td>\n",
       "      <td>737</td>\n",
       "      <td>1570</td>\n",
       "      <td>310</td>\n",
       "      <td>...</td>\n",
       "      <td>190</td>\n",
       "      <td>1180</td>\n",
       "      <td>1940</td>\n",
       "      <td>3250</td>\n",
       "      <td>2184</td>\n",
       "      <td>1770</td>\n",
       "      <td>50500</td>\n",
       "      <td>124</td>\n",
       "      <td>590</td>\n",
       "      <td>4070</td>\n",
       "    </tr>\n",
       "    <tr>\n",
       "      <th>2010-10-31</th>\n",
       "      <td>270</td>\n",
       "      <td>5700</td>\n",
       "      <td>2850.0</td>\n",
       "      <td>9773</td>\n",
       "      <td>2100</td>\n",
       "      <td>1400</td>\n",
       "      <td>4683</td>\n",
       "      <td>775</td>\n",
       "      <td>1820</td>\n",
       "      <td>302</td>\n",
       "      <td>...</td>\n",
       "      <td>186</td>\n",
       "      <td>1112</td>\n",
       "      <td>2075</td>\n",
       "      <td>3490</td>\n",
       "      <td>2142</td>\n",
       "      <td>1721</td>\n",
       "      <td>45200</td>\n",
       "      <td>126</td>\n",
       "      <td>535</td>\n",
       "      <td>3930</td>\n",
       "    </tr>\n",
       "    <tr>\n",
       "      <th>2010-10-24</th>\n",
       "      <td>218</td>\n",
       "      <td>5615</td>\n",
       "      <td>2600.0</td>\n",
       "      <td>9773</td>\n",
       "      <td>2250</td>\n",
       "      <td>1370</td>\n",
       "      <td>4658</td>\n",
       "      <td>742</td>\n",
       "      <td>1800</td>\n",
       "      <td>310</td>\n",
       "      <td>...</td>\n",
       "      <td>185</td>\n",
       "      <td>1059</td>\n",
       "      <td>2100</td>\n",
       "      <td>3470</td>\n",
       "      <td>2163</td>\n",
       "      <td>1684</td>\n",
       "      <td>49500</td>\n",
       "      <td>128</td>\n",
       "      <td>520</td>\n",
       "      <td>4020</td>\n",
       "    </tr>\n",
       "    <tr>\n",
       "      <th>2010-10-17</th>\n",
       "      <td>210</td>\n",
       "      <td>5625</td>\n",
       "      <td>2725.0</td>\n",
       "      <td>9972</td>\n",
       "      <td>2225</td>\n",
       "      <td>1330</td>\n",
       "      <td>4880</td>\n",
       "      <td>699</td>\n",
       "      <td>1810</td>\n",
       "      <td>272</td>\n",
       "      <td>...</td>\n",
       "      <td>198</td>\n",
       "      <td>1024</td>\n",
       "      <td>2050</td>\n",
       "      <td>3610</td>\n",
       "      <td>2100</td>\n",
       "      <td>1708</td>\n",
       "      <td>47500</td>\n",
       "      <td>129</td>\n",
       "      <td>530</td>\n",
       "      <td>4080</td>\n",
       "    </tr>\n",
       "    <tr>\n",
       "      <th>2010-10-10</th>\n",
       "      <td>218</td>\n",
       "      <td>5695</td>\n",
       "      <td>2850.0</td>\n",
       "      <td>9873</td>\n",
       "      <td>2050</td>\n",
       "      <td>1370</td>\n",
       "      <td>4831</td>\n",
       "      <td>651</td>\n",
       "      <td>1820</td>\n",
       "      <td>294</td>\n",
       "      <td>...</td>\n",
       "      <td>199</td>\n",
       "      <td>1024</td>\n",
       "      <td>2100</td>\n",
       "      <td>3410</td>\n",
       "      <td>2016</td>\n",
       "      <td>1647</td>\n",
       "      <td>43250</td>\n",
       "      <td>122</td>\n",
       "      <td>515</td>\n",
       "      <td>4140</td>\n",
       "    </tr>\n",
       "  </tbody>\n",
       "</table>\n",
       "<p>722 rows × 24 columns</p>\n",
       "</div>"
      ]
     },
     "execution_count": 3,
     "metadata": {},
     "output_type": "execute_result"
    }
   ],
   "execution_count": 3
  },
  {
   "metadata": {},
   "cell_type": "markdown",
   "source": "Normalize the dataset",
   "id": "c04c961a7c141a38"
  },
  {
   "metadata": {
    "ExecuteTime": {
     "end_time": "2024-08-01T07:33:11.280195Z",
     "start_time": "2024-08-01T07:33:11.257490Z"
    }
   },
   "cell_type": "code",
   "source": [
    "#TODO: NORMALIZE ✅\n",
    "df_returns = df_adj_close_weekly.pct_change()\n",
    "df_returns = df_returns.iloc[1:]\n",
    "returns_norm = (df_returns - df_returns.mean())/df_returns.std()\n",
    "\n",
    "print(\"INCO mean\", returns_norm['INCO'].mean())\n",
    "print(\"INCO standard deviation\", returns_norm['INCO'].std())"
   ],
   "id": "f7150c9ae3862f0e",
   "outputs": [
    {
     "name": "stdout",
     "output_type": "stream",
     "text": [
      "INCO mean -1.8056994555529866e-17\n",
      "INCO standard deviation 0.9999999999999998\n"
     ]
    }
   ],
   "execution_count": 5
  },
  {
   "metadata": {},
   "cell_type": "markdown",
   "source": "## Slice and split data",
   "id": "4d3c6abe5a137cc3"
  },
  {
   "metadata": {
    "ExecuteTime": {
     "end_time": "2024-08-01T07:55:00.071402Z",
     "start_time": "2024-08-01T07:55:00.054600Z"
    }
   },
   "cell_type": "code",
   "source": [
    "switch = False\n",
    "\n",
    "training_ratio = 0.8\n",
    "split_point = int(np.round(returns_norm.shape[0] * training_ratio))\n",
    "\n",
    "# returns_norm.iloc[:split_point].to_csv(f\"{datadir}returns_train.csv\")\n",
    "# returns_norm.iloc[split_point:].to_csv(f\"{datadir}returns_valid.csv\")\n",
    "\n",
    "train_df = returns_norm.iloc[:split_point]\n",
    "valid_df = returns_norm.iloc[split_point:]"
   ],
   "id": "a06728a32c34e500",
   "outputs": [],
   "execution_count": 11
  },
  {
   "metadata": {},
   "cell_type": "markdown",
   "source": [
    "## Principal Component Analysis\n",
    "\n",
    "- Max number of PCA components is argmin(n_samples, variables)"
   ],
   "id": "23fb48ac27a8cc13"
  },
  {
   "metadata": {
    "ExecuteTime": {
     "end_time": "2024-08-01T08:13:42.739431Z",
     "start_time": "2024-08-01T08:13:42.064852Z"
    }
   },
   "cell_type": "code",
   "source": [
    "cov_matrix = train_df.cov()\n",
    "\n",
    "# Import necessary libraries\n",
    "import matplotlib.pyplot as plt\n",
    "import seaborn as sns\n",
    "\n",
    "# Generate a mask for the upper triangle \n",
    "mask = np.triu(np.ones_like(cov_matrix, dtype=bool))\n",
    "\n",
    "# Set up the matplotlib figure\n",
    "f, ax = plt.subplots(figsize=(11, 9))\n",
    "\n",
    "# Generate a custom diverging colormap\n",
    "cmap = sns.diverging_palette(230, 20, as_cmap=True)\n",
    "\n",
    "# Draw the heatmap with the mask and correct aspect ratio\n",
    "sns.heatmap(cov_matrix, mask=mask, cmap=cmap, vmax=.3, center=0,\n",
    "            square=True, linewidths=.5, cbar_kws={\"shrink\": .5})\n",
    "plt.show()"
   ],
   "id": "f8095015b1e5cb20",
   "outputs": [
    {
     "data": {
      "text/plain": [
       "<Figure size 1100x900 with 2 Axes>"
      ],
      "image/png": "[encoded data removed]"
     },
     "metadata": {},
     "output_type": "display_data"
    }
   ],
   "execution_count": 18
  },
  {
   "metadata": {},
   "cell_type": "markdown",
   "source": [
    "Covariance takeaways \n",
    "- PGEO, AMRT, ARTO seems to have pretty low covariance with everything else -> Could be interesting to isolate profit tests on these assets\n",
    "- PGEO AMRT and Arto seems to have pretty low contributions "
   ],
   "id": "f5d9a0ea19eb5dee"
  },
  {
   "metadata": {
    "ExecuteTime": {
     "end_time": "2024-08-01T09:10:22.771687Z",
     "start_time": "2024-08-01T09:10:22.734090Z"
    }
   },
   "cell_type": "code",
   "source": [
    "def pcap(norm_returns, p=0.30):\n",
    "    \"\"\"\n",
    "    PCA with denoising factor p -> (1-p) variance\n",
    "    \n",
    "    :param norm_returns: Dataframe of normalized returns \n",
    "    :param p: Maximum number of noise to extract/remove from the data\n",
    "    :return:  PCA object, explained variance ratios, and data with reduced dimensionality   \n",
    "    \"\"\"\n",
    "    # Compute covariance matrix\n",
    "    cov_matrix = norm_returns.cov()\n",
    "    \n",
    "    # Eigendecomposition of the variables into eigenvalues, eigenvectors\n",
    "    \n",
    "    eigenvalues, eigenvectors = np.linalg.eig(cov_matrix)\n",
    "    \n",
    "    # Sort eigenvalues and eigenvectors in descending order\n",
    "    idx = eigenvalues.argsort()[::-1]\n",
    "    eigenvalues = idx\n",
    "    eigenvectors = eigenvectors[:, idx]\n",
    "    \n",
    "    # calculate cumulative explained variance ratio\n",
    "    total_variance = np.sum(eigenvalues)\n",
    "    cumulative_variance_ratio = np.cumsum(eigenvalues) / total_variance \n",
    "    \n",
    "    # Determine the number of components to keep \n",
    "    k = np.argmax(cumulative_variance_ratio >= (1 - p )) + 1\n",
    "    \n",
    "    # Create PCA object and fit\n",
    "    pca = PCA(n_components=k)\n",
    "    reduced_data = pca.fit_transform(norm_returns)\n",
    "    \n",
    "    return pca, cumulative_variance_ratio, reduced_data"
   ],
   "id": "136eb1f99bec05b5",
   "outputs": [],
   "execution_count": 34
  },
  {
   "metadata": {
    "ExecuteTime": {
     "end_time": "2024-08-01T09:10:26.931665Z",
     "start_time": "2024-08-01T09:10:26.913193Z"
    }
   },
   "cell_type": "code",
   "source": "type(pca.explained_variance_ratio_)",
   "id": "dc284df4fe3475",
   "outputs": [
    {
     "data": {
      "text/plain": [
       "numpy.ndarray"
      ]
     },
     "execution_count": 35,
     "metadata": {},
     "output_type": "execute_result"
    }
   ],
   "execution_count": 35
  },
  {
   "metadata": {
    "ExecuteTime": {
     "end_time": "2024-08-01T09:26:06.567870Z",
     "start_time": "2024-08-01T09:26:05.421509Z"
    }
   },
   "cell_type": "code",
   "source": [
    "import numpy as np\n",
    "from hmmlearn import hmm\n",
    "\n",
    "def train_and_select_hmm(factor_returns, max_states=8):\n",
    "    \"\"\"\n",
    "    Train HMM models with different numbers of states and select the best one based on AIC\n",
    "    \n",
    "    :param factor_returns: PCA factor returns\n",
    "    :param max_states: Maximum number of states to consider\n",
    "    :return: Best HMM model\n",
    "    \"\"\"\n",
    "    best_model = None\n",
    "    best_aic = np.inf\n",
    "\n",
    "    for n_states in range(2, max_states + 1):\n",
    "        model = hmm.GaussianHMM(n_components=n_states, covariance_type=\"diag\", n_iter=100)\n",
    "\n",
    "        try:\n",
    "            model.fit(factor_returns)\n",
    "            # Calculate AIC manually\n",
    "            log_likelihood = model.score(factor_returns)\n",
    "            n_params = n_states * (n_states - 1) + 2 * n_states * factor_returns.shape[1] - 1\n",
    "            aic = -2 * log_likelihood + 2 * n_params\n",
    "\n",
    "            if aic < best_aic:\n",
    "                best_aic = aic\n",
    "                best_model = model\n",
    "        except:\n",
    "            continue\n",
    "\n",
    "    return best_model\n",
    "\n",
    "# Example usage (assuming `reduced_data` is defined)\n",
    "# reduced_data should be your PCA factor returns data\n",
    "best_hmm = train_and_select_hmm(reduced_data)\n"
   ],
   "id": "5b13361756bef0e3",
   "outputs": [],
   "execution_count": 45
  },
  {
   "metadata": {
    "ExecuteTime": {
     "end_time": "2024-08-01T09:26:14.935961Z",
     "start_time": "2024-08-01T09:26:14.912542Z"
    }
   },
   "cell_type": "code",
   "source": "best_hmm",
   "id": "45bc6009bd8f1311",
   "outputs": [
    {
     "data": {
      "text/plain": [
       "GaussianHMM(n_components=8, n_iter=100)"
      ],
      "text/html": [
       "<style>#sk-container-id-2 {color: black;}#sk-container-id-2 pre{padding: 0;}#sk-container-id-2 div.sk-toggleable {background-color: white;}#sk-container-id-2 label.sk-toggleable__label {cursor: pointer;display: block;width: 100%;margin-bottom: 0;padding: 0.3em;box-sizing: border-box;text-align: center;}#sk-container-id-2 label.sk-toggleable__label-arrow:before {content: \"▸\";float: left;margin-right: 0.25em;color: #696969;}#sk-container-id-2 label.sk-toggleable__label-arrow:hover:before {color: black;}#sk-container-id-2 div.sk-estimator:hover label.sk-toggleable__label-arrow:before {color: black;}#sk-container-id-2 div.sk-toggleable__content {max-height: 0;max-width: 0;overflow: hidden;text-align: left;background-color: #f0f8ff;}#sk-container-id-2 div.sk-toggleable__content pre {margin: 0.2em;color: black;border-radius: 0.25em;background-color: #f0f8ff;}#sk-container-id-2 input.sk-toggleable__control:checked~div.sk-toggleable__content {max-height: 200px;max-width: 100%;overflow: auto;}#sk-container-id-2 input.sk-toggleable__control:checked~label.sk-toggleable__label-arrow:before {content: \"▾\";}#sk-container-id-2 div.sk-estimator input.sk-toggleable__control:checked~label.sk-toggleable__label {background-color: #d4ebff;}#sk-container-id-2 div.sk-label input.sk-toggleable__control:checked~label.sk-toggleable__label {background-color: #d4ebff;}#sk-container-id-2 input.sk-hidden--visually {border: 0;clip: rect(1px 1px 1px 1px);clip: rect(1px, 1px, 1px, 1px);height: 1px;margin: -1px;overflow: hidden;padding: 0;position: absolute;width: 1px;}#sk-container-id-2 div.sk-estimator {font-family: monospace;background-color: #f0f8ff;border: 1px dotted black;border-radius: 0.25em;box-sizing: border-box;margin-bottom: 0.5em;}#sk-container-id-2 div.sk-estimator:hover {background-color: #d4ebff;}#sk-container-id-2 div.sk-parallel-item::after {content: \"\";width: 100%;border-bottom: 1px solid gray;flex-grow: 1;}#sk-container-id-2 div.sk-label:hover label.sk-toggleable__label {background-color: #d4ebff;}#sk-container-id-2 div.sk-serial::before {content: \"\";position: absolute;border-left: 1px solid gray;box-sizing: border-box;top: 0;bottom: 0;left: 50%;z-index: 0;}#sk-container-id-2 div.sk-serial {display: flex;flex-direction: column;align-items: center;background-color: white;padding-right: 0.2em;padding-left: 0.2em;position: relative;}#sk-container-id-2 div.sk-item {position: relative;z-index: 1;}#sk-container-id-2 div.sk-parallel {display: flex;align-items: stretch;justify-content: center;background-color: white;position: relative;}#sk-container-id-2 div.sk-item::before, #sk-container-id-2 div.sk-parallel-item::before {content: \"\";position: absolute;border-left: 1px solid gray;box-sizing: border-box;top: 0;bottom: 0;left: 50%;z-index: -1;}#sk-container-id-2 div.sk-parallel-item {display: flex;flex-direction: column;z-index: 1;position: relative;background-color: white;}#sk-container-id-2 div.sk-parallel-item:first-child::after {align-self: flex-end;width: 50%;}#sk-container-id-2 div.sk-parallel-item:last-child::after {align-self: flex-start;width: 50%;}#sk-container-id-2 div.sk-parallel-item:only-child::after {width: 0;}#sk-container-id-2 div.sk-dashed-wrapped {border: 1px dashed gray;margin: 0 0.4em 0.5em 0.4em;box-sizing: border-box;padding-bottom: 0.4em;background-color: white;}#sk-container-id-2 div.sk-label label {font-family: monospace;font-weight: bold;display: inline-block;line-height: 1.2em;}#sk-container-id-2 div.sk-label-container {text-align: center;}#sk-container-id-2 div.sk-container {/* jupyter's `normalize.less` sets `[hidden] { display: none; }` but bootstrap.min.css set `[hidden] { display: none !important; }` so we also need the `!important` here to be able to override the default hidden behavior on the sphinx rendered scikit-learn.org. See: https://github.com/scikit-learn/scikit-learn/issues/21755 */display: inline-block !important;position: relative;}#sk-container-id-2 div.sk-text-repr-fallback {display: none;}</style><div id=\"sk-container-id-2\" class=\"sk-top-container\"><div class=\"sk-text-repr-fallback\"><pre>GaussianHMM(n_components=8, n_iter=100)</pre><b>In a Jupyter environment, please rerun this cell to show the HTML representation or trust the notebook. <br />On GitHub, the HTML representation is unable to render, please try loading this page with nbviewer.org.</b></div><div class=\"sk-container\" hidden><div class=\"sk-item\"><div class=\"sk-estimator sk-toggleable\"><input class=\"sk-toggleable__control sk-hidden--visually\" id=\"sk-estimator-id-2\" type=\"checkbox\" checked><label for=\"sk-estimator-id-2\" class=\"sk-toggleable__label sk-toggleable__label-arrow\">GaussianHMM</label><div class=\"sk-toggleable__content\"><pre>GaussianHMM(n_components=8, n_iter=100)</pre></div></div></div></div></div>"
      ]
     },
     "execution_count": 47,
     "metadata": {},
     "output_type": "execute_result"
    }
   ],
   "execution_count": 47
  },
  {
   "metadata": {
    "ExecuteTime": {
     "end_time": "2024-08-01T09:36:22.449450Z",
     "start_time": "2024-08-01T09:36:22.379386Z"
    }
   },
   "cell_type": "code",
   "source": [
    "def evaluate_performance(returns, strategy_returns):\n",
    "    \"\"\"\n",
    "    Evaluate the performance of a trading strategy\n",
    "    \n",
    "    :param returns: Benchmark returns (buy-and-hold)\n",
    "    :param strategy_returns: Strategy returns\n",
    "    :return: Performance metrics\n",
    "    \"\"\"\n",
    "    # Calculate winning probability\n",
    "    winning_prob = np.mean(strategy_returns > 0)\n",
    "\n",
    "    # Calculate annualized Sharpe ratio\n",
    "    sharpe_ratio = np.sqrt(52) * strategy_returns.mean() / strategy_returns.std()\n",
    "\n",
    "    # Calculate cumulative returns\n",
    "    cumulative_returns = (1 + strategy_returns).cumprod()\n",
    "\n",
    "    return winning_prob, sharpe_ratio, cumulative_returns"
   ],
   "id": "1872217a39f7cb3a",
   "outputs": [],
   "execution_count": 48
  },
  {
   "metadata": {
    "ExecuteTime": {
     "end_time": "2024-08-01T09:09:08.931865Z",
     "start_time": "2024-08-01T09:09:08.294907Z"
    }
   },
   "cell_type": "code",
   "source": [
    "plt.plot(np.cumsum(pca.explained_variance_ratio_))\n",
    "plt.xlabel('Number of Components')\n",
    "plt.ylabel('Cumulative Explained Variance Ratio')\n",
    "plt.title('Explained Variance Ratio vs. Number of Components')\n",
    "plt.show()"
   ],
   "id": "b2e85d85f601bf87",
   "outputs": [
    {
     "data": {
      "text/plain": [
       "<Figure size 640x480 with 1 Axes>"
      ],
      "image/png": "[encoded data removed]"
     },
     "metadata": {},
     "output_type": "display_data"
    }
   ],
   "execution_count": 31
  }
 ],
 "metadata": {
  "kernelspec": {
   "display_name": "Python 3",
   "language": "python",
   "name": "python3"
  },
  "language_info": {
   "codemirror_mode": {
    "name": "ipython",
    "version": 2
   },
   "file_extension": ".py",
   "mimetype": "text/x-python",
   "name": "python",
   "nbconvert_exporter": "python",
   "pygments_lexer": "ipython2",
   "version": "2.7.6"
  }
 },
 "nbformat": 4,
 "nbformat_minor": 5
}
